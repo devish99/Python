{
 "cells": [
  {
   "cell_type": "code",
   "execution_count": 41,
   "metadata": {},
   "outputs": [],
   "source": [
    "# Importing from library\n",
    "from cryptography.fernet import Fernet"
   ]
  },
  {
   "cell_type": "code",
   "execution_count": 42,
   "metadata": {},
   "outputs": [],
   "source": [
    "# Generating Key\n",
    "def write_key():\n",
    "    \"\"\"\n",
    "    Generates a key and save it into a file\n",
    "    \"\"\"\n",
    "    key = Fernet.generate_key()\n",
    "    with open(\"key.key\", \"wb\") as key_file:\n",
    "        key_file.write(key)"
   ]
  },
  {
   "cell_type": "code",
   "execution_count": 43,
   "metadata": {},
   "outputs": [],
   "source": [
    "# Loading Key\n",
    "def load_key():\n",
    "    \"\"\"\n",
    "    Loads the key from the current directory named `key.key`\n",
    "    \"\"\"\n",
    "    return open(\"key.key\", \"rb\").read()"
   ]
  },
  {
   "cell_type": "code",
   "execution_count": 44,
   "metadata": {},
   "outputs": [],
   "source": [
    "# Function to encrypt file\n",
    "def encrypt(filename, key):\n",
    "    \"\"\"\n",
    "    Given a filename (str) and key (bytes), it encrypts the file and write it\n",
    "    \"\"\"\n",
    "    f = Fernet(key)\n",
    "\n",
    "    with open(filename, \"rb\") as file:\n",
    "        # read all file data\n",
    "        file_data = file.read()\n",
    "    # encrypt data\n",
    "    encrypted_data = f.encrypt(file_data)\n",
    "    \n",
    "    # write the encrypted file\n",
    "    with open(filename, \"wb\") as file:\n",
    "        file.write(encrypted_data)"
   ]
  },
  {
   "cell_type": "code",
   "execution_count": 45,
   "metadata": {},
   "outputs": [],
   "source": [
    "# Function to decrypt file\n",
    "def decrypt(filename, key):\n",
    "    \"\"\"\n",
    "    Given a filename (str) and key (bytes), it decrypts the file and write it\n",
    "    \"\"\"\n",
    "    f = Fernet(key)\n",
    "    \n",
    "    with open(filename, \"rb\") as file:\n",
    "        # read the encrypted data\n",
    "        encrypted_data = file.read()\n",
    "    # decrypt data\n",
    "    decrypted_data = f.decrypt(encrypted_data)\n",
    "    \n",
    "    # write the original file\n",
    "    with open(filename, \"wb\") as file:\n",
    "        file.write(decrypted_data)"
   ]
  },
  {
   "cell_type": "code",
   "execution_count": 46,
   "metadata": {},
   "outputs": [],
   "source": [
    "# Encyption function call\n",
    "write_key()\n",
    "# load the key\n",
    "key = load_key()\n",
    "# file name\n",
    "file = \"Test.txt\"\n",
    "# encrypt it\n",
    "encrypt(file, key)"
   ]
  },
  {
   "cell_type": "code",
   "execution_count": 47,
   "metadata": {},
   "outputs": [],
   "source": [
    "# Decryption function call\n",
    "decrypt(file,key)"
   ]
  }
 ],
 "metadata": {
  "kernelspec": {
   "display_name": "Python 3",
   "language": "python",
   "name": "python3"
  },
  "language_info": {
   "codemirror_mode": {
    "name": "ipython",
    "version": 3
   },
   "file_extension": ".py",
   "mimetype": "text/x-python",
   "name": "python",
   "nbconvert_exporter": "python",
   "pygments_lexer": "ipython3",
   "version": "3.7.5"
  }
 },
 "nbformat": 4,
 "nbformat_minor": 4
}
